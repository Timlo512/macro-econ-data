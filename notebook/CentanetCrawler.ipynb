{
 "cells": [
  {
   "cell_type": "code",
   "execution_count": 40,
   "id": "99bbda38-d06a-4f17-85eb-ff3bf9281b2e",
   "metadata": {},
   "outputs": [],
   "source": [
    "import requests\n",
    "from bs4 import BeautifulSoup\n",
    "import pandas as pd"
   ]
  },
  {
   "cell_type": "code",
   "execution_count": 4,
   "id": "edaf0fa4-5ce2-43b5-8f2b-27b1a65a9a16",
   "metadata": {},
   "outputs": [],
   "source": [
    "query_id = \"ok08hezjt5dub\""
   ]
  },
  {
   "cell_type": "code",
   "execution_count": 5,
   "id": "202b9f73-ec12-4e10-8608-f7fd16ca4231",
   "metadata": {},
   "outputs": [],
   "source": [
    "# Fetch data from centanet\n",
    "url = f\"https://hk.centanet.com/findproperty/list/transaction?q={query_id}\"\n",
    "res = requests.get(url)\n",
    "html = res.content.decode()"
   ]
  },
  {
   "cell_type": "code",
   "execution_count": 15,
   "id": "a2ab7c4a-b75d-4f55-aec1-d05890ac6230",
   "metadata": {},
   "outputs": [],
   "source": []
  },
  {
   "cell_type": "code",
   "execution_count": 19,
   "id": "cc1411b7-05c7-4af4-b2f5-b4f0573200b2",
   "metadata": {},
   "outputs": [],
   "source": [
    "# Parse the html\n",
    "soup = BeautifulSoup(html, 'html.parser')"
   ]
  },
  {
   "cell_type": "code",
   "execution_count": 60,
   "id": "b5db6d01-36b6-4835-87b3-b334a01b1c13",
   "metadata": {
    "scrolled": true
   },
   "outputs": [],
   "source": [
    "# Get all rows in tbody\n",
    "rows = soup.find_all(\"div\", attrs={\"class\": \"bx--structured-list-row\"})\n",
    "data = [[item.find(\"div\").text for item in row.find_all(\"div\", attrs={\"class\": \"bx--structured-list-td\"}) if item.find(\"div\")] for row in rows]"
   ]
  },
  {
   "cell_type": "code",
   "execution_count": 61,
   "id": "cd613b70-49ae-49cc-b6f8-9fb2181016ef",
   "metadata": {},
   "outputs": [],
   "source": [
    "# Get rows in thead\n",
    "header_row = soup.find(\"div\", attrs={\"class\": \"bx--structured-list-row--header-row\"})\n",
    "header = [item.text for item in header_row.find_all(\"div\", attrs={\"class\": \"bx--structured-list-th\"})]"
   ]
  },
  {
   "cell_type": "code",
   "execution_count": 62,
   "id": "7429bff8-ab9a-48d4-8913-727665fe9ed5",
   "metadata": {
    "scrolled": true
   },
   "outputs": [],
   "source": [
    "df = pd.DataFrame(data, columns=header)"
   ]
  },
  {
   "cell_type": "code",
   "execution_count": 70,
   "id": "367235ad-2203-4bff-96e3-e03a47e57be9",
   "metadata": {},
   "outputs": [],
   "source": [
    "# Basic cleansing\n",
    "df = df.dropna()\n",
    "for col in df.columns:\n",
    "    df[col] = df[col].apply(lambda x: x.replace(\"\\n\", '').strip())"
   ]
  },
  {
   "cell_type": "code",
   "execution_count": null,
   "id": "e8f0a12a-6ac1-4e55-979a-3b02e93a6aff",
   "metadata": {},
   "outputs": [],
   "source": []
  },
  {
   "cell_type": "code",
   "execution_count": null,
   "id": "8ecb5277-0d53-47b1-b982-f3cb6efc31f8",
   "metadata": {},
   "outputs": [],
   "source": []
  },
  {
   "cell_type": "code",
   "execution_count": null,
   "id": "d9391e16-2326-4f2f-b074-6f266a2feccf",
   "metadata": {},
   "outputs": [],
   "source": []
  },
  {
   "cell_type": "code",
   "execution_count": null,
   "id": "7cc1b05a-bd28-4e55-91e7-01bbf8987968",
   "metadata": {},
   "outputs": [],
   "source": []
  },
  {
   "cell_type": "code",
   "execution_count": null,
   "id": "df8d9d73-36c4-476f-8929-f03459d236bc",
   "metadata": {},
   "outputs": [],
   "source": []
  },
  {
   "cell_type": "code",
   "execution_count": null,
   "id": "2b5723fd-bac1-4dbe-95cc-a7f47c7a908e",
   "metadata": {},
   "outputs": [],
   "source": []
  },
  {
   "cell_type": "code",
   "execution_count": null,
   "id": "19b92f80-f827-478a-a739-2d127127f2a0",
   "metadata": {},
   "outputs": [],
   "source": []
  },
  {
   "cell_type": "code",
   "execution_count": null,
   "id": "03ba0102-03ba-4ff9-939c-75ea1e263624",
   "metadata": {},
   "outputs": [],
   "source": []
  }
 ],
 "metadata": {
  "kernelspec": {
   "display_name": "Python 3 (ipykernel)",
   "language": "python",
   "name": "python3"
  },
  "language_info": {
   "codemirror_mode": {
    "name": "ipython",
    "version": 3
   },
   "file_extension": ".py",
   "mimetype": "text/x-python",
   "name": "python",
   "nbconvert_exporter": "python",
   "pygments_lexer": "ipython3",
   "version": "3.9.7"
  }
 },
 "nbformat": 4,
 "nbformat_minor": 5
}
